{
  "nbformat": 4,
  "nbformat_minor": 0,
  "metadata": {
    "colab": {
      "provenance": [],
      "toc_visible": true,
      "authorship_tag": "ABX9TyO0bDGOF/U69E93MZ9ooWOm",
      "include_colab_link": true
    },
    "kernelspec": {
      "name": "python3",
      "display_name": "Python 3"
    },
    "language_info": {
      "name": "python"
    }
  },
  "cells": [
    {
      "cell_type": "markdown",
      "metadata": {
        "id": "view-in-github",
        "colab_type": "text"
      },
      "source": [
        "<a href=\"https://colab.research.google.com/github/BijayanRay/Natural-Language-Processing-2024-CMI-course/blob/main/Assignment01.ipynb\" target=\"_parent\"><img src=\"https://colab.research.google.com/assets/colab-badge.svg\" alt=\"Open In Colab\"/></a>"
      ]
    },
    {
      "cell_type": "markdown",
      "source": [
        "# Getting the files"
      ],
      "metadata": {
        "id": "wnwjus72z_3l"
      }
    },
    {
      "cell_type": "code",
      "execution_count": null,
      "metadata": {
        "colab": {
          "base_uri": "https://localhost:8080/",
          "height": 142
        },
        "id": "iPjy1Uu7yHmi",
        "outputId": "be5616f1-eb81-475c-d93c-1cd057b6a02f"
      },
      "outputs": [
        {
          "output_type": "stream",
          "name": "stderr",
          "text": [
            "Downloading...\n",
            "From (original): https://drive.google.com/uc?id=1PVA5IR4bAn7RulAeuSgxRBNMtmRGXaUm\n",
            "From (redirected): https://drive.google.com/uc?id=1PVA5IR4bAn7RulAeuSgxRBNMtmRGXaUm&confirm=t&uuid=77295530-670a-4030-9c48-26c1a4381bfb\n",
            "To: /content/pdf_json.zip\n",
            "100%|██████████| 1.00G/1.00G [00:15<00:00, 66.6MB/s]\n"
          ]
        },
        {
          "output_type": "execute_result",
          "data": {
            "text/plain": [
              "'/content/pdf_json.zip'"
            ],
            "application/vnd.google.colaboratory.intrinsic+json": {
              "type": "string"
            }
          },
          "metadata": {},
          "execution_count": 1
        }
      ],
      "source": [
        "# !pip install gdown\n",
        "import gdown\n",
        "\n",
        "file_id = '1PVA5IR4bAn7RulAeuSgxRBNMtmRGXaUm'\n",
        "destination = '/content/pdf_json.zip'\n",
        "\n",
        "gdown.download(f'https://drive.google.com/uc?id={file_id}', destination, quiet=False)"
      ]
    },
    {
      "cell_type": "code",
      "source": [
        "# %%capture\n",
        "!unzip -q \"/content/pdf_json.zip\""
      ],
      "metadata": {
        "id": "Ax9Bp8t53i4L"
      },
      "execution_count": null,
      "outputs": []
    },
    {
      "cell_type": "markdown",
      "source": [
        "# Task 1"
      ],
      "metadata": {
        "id": "ri5ElkJB6JBk"
      }
    },
    {
      "cell_type": "code",
      "source": [
        "import json\n",
        "def json2text(filename):\n",
        "    file = open(filename)\n",
        "    paper_content = json.load(file)\n",
        "    body_text = \"\"\n",
        "    abstract = \"\"\n",
        "    title = \"\"\n",
        "    # Get the paper_id\n",
        "    paper_id = paper_content['paper_id']\n",
        "    # Get the title\n",
        "    if 'title' in paper_content:\n",
        "        title = paper_content['title']\n",
        "    # Get the abstract\n",
        "    if 'abstract' in paper_content:\n",
        "        for abs in paper_content['abstract']:\n",
        "            abstract += abs['text']\n",
        "    # Get the body text\n",
        "    if 'body_text' in paper_content:\n",
        "        for bt in paper_content['body_text']:\n",
        "            body_text += bt['text']\n",
        "    return (f'{title} {abstract} {body_text}').lower()"
      ],
      "metadata": {
        "id": "wdogZnUnzlD1"
      },
      "execution_count": null,
      "outputs": []
    },
    {
      "cell_type": "code",
      "source": [
        "import os\n",
        "import multiprocessing as mp\n",
        "from multiprocessing import Pool\n",
        "\n",
        "def write_file(filename):\n",
        "    with open(filename, 'r') as fd:\n",
        "        return json2text(filename) + \" \" # we are storing the texts from the json files\n",
        "\n",
        "def par_write(files):\n",
        "    '''Read a chunk of files and let the cores of your machine do the job of format conversion in parallel'''\n",
        "    # Parameter: files - list of files from a folder\n",
        "    cpu_count = os.cpu_count()\n",
        "    p = Pool(processes=cpu_count)\n",
        "    texts_data_list = p.map(write_file, files, chunksize=16)\n",
        "    p.close()\n",
        "    p.join()\n",
        "    data = \" \".join(texts_data_list)\n",
        "    return data\n"
      ],
      "metadata": {
        "id": "h8JVuoiH-Qq-"
      },
      "execution_count": null,
      "outputs": []
    },
    {
      "cell_type": "markdown",
      "source": [
        "## ?"
      ],
      "metadata": {
        "id": "qISMK4WHLdzI"
      }
    },
    {
      "cell_type": "code",
      "source": [
        "folder_path = '/content/pdf_json'\n",
        "files = [os.path.join(folder_path, file) for file in os.listdir(folder_path) if file.endswith('.json')]\n",
        "texts_data = par_write(files) # this is storing all the text files from the json files separated by space"
      ],
      "metadata": {
        "id": "RU5e17UK-euR"
      },
      "execution_count": null,
      "outputs": []
    },
    {
      "cell_type": "markdown",
      "source": [
        "## Saving the texts in a txt file (optional)"
      ],
      "metadata": {
        "id": "GiZDmUrf66tG"
      }
    },
    {
      "cell_type": "code",
      "source": [
        "with open('/content/texts_data.txt', 'w', encoding='utf-8') as file:\n",
        "  file.write(texts_data)"
      ],
      "metadata": {
        "id": "QL6jJ6b06_UW"
      },
      "execution_count": null,
      "outputs": []
    },
    {
      "cell_type": "markdown",
      "source": [
        "# Task 2"
      ],
      "metadata": {
        "id": "-SSrC8BA6QeK"
      }
    },
    {
      "cell_type": "markdown",
      "source": [
        "## ?\n",
        "here memory overflow is happening\n",
        "\n",
        "perhaps reading line by line from text file may help to avoid that"
      ],
      "metadata": {
        "id": "dsaZsxdqLaIB"
      }
    },
    {
      "cell_type": "code",
      "source": [
        "import re\n",
        "import string\n",
        "from nltk.corpus import stopwords\n",
        "from nltk.stem import PorterStemmer\n",
        "from nltk.tokenize import word_tokenize\n",
        "\n",
        "# Download NLTK resources if you haven't already\n",
        "import nltk\n",
        "nltk.download('punkt')\n",
        "nltk.download('stopwords')\n",
        "\n",
        "def preprocess_text(text):\n",
        "    # Case folding\n",
        "    text = text.lower()\n",
        "\n",
        "    # Remove numbers\n",
        "    text = re.sub(r'\\d+', '', text)\n",
        "\n",
        "    # Remove punctuation\n",
        "    text = text.translate(str.maketrans('', '', string.punctuation))\n",
        "\n",
        "    # Remove extra whitespace\n",
        "    text = ' '.join(text.split())\n",
        "\n",
        "    # Tokenize\n",
        "    tokens = word_tokenize(text)\n",
        "\n",
        "    # Remove stop words\n",
        "    stop_words = set(stopwords.words('english'))\n",
        "    tokens = [word for word in tokens if word not in stop_words]\n",
        "\n",
        "    # Stemming (or use lemmatization if preferred)\n",
        "    stemmer = PorterStemmer()\n",
        "    tokens = [stemmer.stem(word) for word in tokens]\n",
        "\n",
        "    # Join tokens back to a single string\n",
        "    processed_text = ' '.join(tokens)\n",
        "\n",
        "    return processed_text\n",
        "\n",
        "tokens = preprocess_text(texts_data)"
      ],
      "metadata": {
        "id": "C2Z0Shn36bkA"
      },
      "execution_count": null,
      "outputs": []
    },
    {
      "cell_type": "markdown",
      "source": [
        "# Task 3"
      ],
      "metadata": {
        "id": "mIQ75uUi6V0D"
      }
    },
    {
      "cell_type": "markdown",
      "source": [
        "## ?"
      ],
      "metadata": {
        "id": "tBPitm80Lgpo"
      }
    },
    {
      "cell_type": "code",
      "source": [
        "import numpy as np\n",
        "import matplotlib.pyplot as plt\n",
        "from collections import Counter\n",
        "import re\n",
        "import string\n",
        "from nltk.corpus import stopwords\n",
        "from nltk.tokenize import word_tokenize\n",
        "\n",
        "# Download NLTK resources if you haven't already\n",
        "import nltk\n",
        "nltk.download('punkt')\n",
        "nltk.download('stopwords')\n",
        "\n",
        "def term_frequency(tokens):\n",
        "    # Calculate term frequency\n",
        "    total_terms = len(tokens)\n",
        "    term_freq = Counter(tokens)\n",
        "    term_freq = {term: freq / total_terms for term, freq in term_freq.items()}\n",
        "    return term_freq\n",
        "\n",
        "def zipfs_law_analysis(term_freq):\n",
        "    # Sort terms by frequency in descending order\n",
        "    sorted_terms = sorted(term_freq.items(), key=lambda x: x[1], reverse=True)\n",
        "    ranks = np.arange(1, len(sorted_terms) + 1)\n",
        "    frequencies = np.array([freq for term, freq in sorted_terms])\n",
        "\n",
        "    # Fit Zipf's Law: f(r) = C * r^(-α)\n",
        "    log_ranks = np.log(ranks)\n",
        "    log_frequencies = np.log(frequencies)\n",
        "\n",
        "    # Perform linear regression to find α\n",
        "    A = np.vstack([log_ranks, np.ones(len(log_ranks))]).T\n",
        "    α, _ = np.linalg.lstsq(A, log_frequencies, rcond=None)[0]\n",
        "\n",
        "    # Plotting for visualization\n",
        "    plt.figure(figsize=(10, 6))\n",
        "    plt.plot(log_ranks, log_frequencies, 'o', label='Data')\n",
        "    plt.plot(log_ranks, α * log_ranks + _ , 'r-', label=f'Fit (α = {-α:.2f})')\n",
        "    plt.xlabel('Log Rank')\n",
        "    plt.ylabel('Log Frequency')\n",
        "    plt.title('Zipf\\'s Law Analysis')\n",
        "    plt.legend()\n",
        "    plt.grid(True)\n",
        "    plt.show()\n",
        "\n",
        "    return α\n",
        "\n",
        "term_freq = term_frequency(tokens)\n",
        "alpha = zipfs_law_analysis(term_freq)\n",
        "\n",
        "print(f\"Estimated α: {alpha:.2f}\")\n"
      ],
      "metadata": {
        "id": "8zFBTRfdLgRn",
        "colab": {
          "base_uri": "https://localhost:8080/",
          "height": 671
        },
        "outputId": "a13e5eb1-fce5-4f3d-ad6e-941703356ae4"
      },
      "execution_count": null,
      "outputs": [
        {
          "output_type": "stream",
          "name": "stderr",
          "text": [
            "[nltk_data] Downloading package punkt to /root/nltk_data...\n",
            "[nltk_data]   Package punkt is already up-to-date!\n",
            "[nltk_data] Downloading package stopwords to /root/nltk_data...\n",
            "[nltk_data]   Package stopwords is already up-to-date!\n"
          ]
        },
        {
          "output_type": "display_data",
          "data": {
            "text/plain": [
              "<Figure size 1000x600 with 1 Axes>"
            ],
            "image/png": "[encoded data removed]"
          },
          "metadata": {}
        },
        {
          "output_type": "stream",
          "name": "stdout",
          "text": [
            "Estimated α: 0.00\n"
          ]
        }
      ]
    },
    {
      "cell_type": "markdown",
      "source": [
        "# Task 4"
      ],
      "metadata": {
        "id": "cEOzhe046WVo"
      }
    },
    {
      "cell_type": "code",
      "source": [
        "vocabulary = set(tokens)\n",
        "\n",
        "print(\"The number of tokens = \", len(tokens))\n",
        "print(\"The number of vocabulary = \", len(vocabulary))\n",
        "print(\"Vocabulary : \", vocabulary)"
      ],
      "metadata": {
        "id": "1xJ-kRuUMloj",
        "colab": {
          "base_uri": "https://localhost:8080/"
        },
        "outputId": "79fc80ee-48d1-40ee-8eb9-bbc5d1368032"
      },
      "execution_count": null,
      "outputs": [
        {
          "output_type": "stream",
          "name": "stdout",
          "text": [
            "The number of tokens =  0\n",
            "The number of vocabulary =  0\n",
            "Vocabulary :  set()\n"
          ]
        }
      ]
    },
    {
      "cell_type": "markdown",
      "source": [
        "# Task 5"
      ],
      "metadata": {
        "id": "cOG5UcrI6XLK"
      }
    },
    {
      "cell_type": "markdown",
      "source": [
        "## ?"
      ],
      "metadata": {
        "id": "SegWrOMpNgbv"
      }
    },
    {
      "cell_type": "code",
      "source": [
        "def compute_vocab_size(tokens, step=10000):\n",
        "    vocab_sizes = []\n",
        "    num_tokens = len(tokens)\n",
        "    vocab_set = set()\n",
        "\n",
        "    for i in range(0, num_tokens, step):\n",
        "        current_tokens = tokens[:i+step]\n",
        "        vocab_set.update(current_tokens)\n",
        "        vocab_sizes.append((i+step, len(vocab_set)))\n",
        "\n",
        "    return vocab_sizes\n",
        "\n",
        "def plot_vocab_vs_tokens(vocab_sizes):\n",
        "    tokens_counts, vocab_counts = zip(*vocab_sizes)\n",
        "\n",
        "    plt.figure(figsize=(10, 6))\n",
        "    plt.plot(tokens_counts, vocab_counts, marker='o', linestyle='-', color='b', label='Vocabulary Size vs. Tokens')\n",
        "    plt.xscale('log')\n",
        "    plt.yscale('log')\n",
        "    plt.xlabel('Number of Tokens (log scale)')\n",
        "    plt.ylabel('Vocabulary Size (log scale)')\n",
        "    plt.title('Heaps\\' Empirical Law: Vocabulary Size vs. Number of Tokens')\n",
        "    plt.grid(True, which='both', linestyle='--', linewidth=0.5)\n",
        "    plt.legend()\n",
        "    plt.show()\n"
      ],
      "metadata": {
        "id": "GTZ3mzqUNWrS"
      },
      "execution_count": null,
      "outputs": []
    },
    {
      "cell_type": "code",
      "source": [
        "vocab_sizes = compute_vocab_size(tokens, step=10000)\n",
        "plot_vocab_vs_tokens(vocab_sizes)\n",
        "\n",
        "for num_tokens, vocab_size in vocab_sizes:\n",
        "    print(f\"Number of tokens: {num_tokens}, Vocabulary size: {vocab_size}\")"
      ],
      "metadata": {
        "id": "wrypd4QwNaJV",
        "colab": {
          "base_uri": "https://localhost:8080/",
          "height": 352
        },
        "outputId": "e26be64f-5a1d-42c6-dcc9-3facfb3decc8"
      },
      "execution_count": null,
      "outputs": [
        {
          "output_type": "error",
          "ename": "ValueError",
          "evalue": "not enough values to unpack (expected 2, got 0)",
          "traceback": [
            "\u001b[0;31m---------------------------------------------------------------------------\u001b[0m",
            "\u001b[0;31mValueError\u001b[0m                                Traceback (most recent call last)",
            "\u001b[0;32m<ipython-input-11-75a23a969c7f>\u001b[0m in \u001b[0;36m<cell line: 2>\u001b[0;34m()\u001b[0m\n\u001b[1;32m      1\u001b[0m \u001b[0mvocab_sizes\u001b[0m \u001b[0;34m=\u001b[0m \u001b[0mcompute_vocab_size\u001b[0m\u001b[0;34m(\u001b[0m\u001b[0mtokens\u001b[0m\u001b[0;34m,\u001b[0m \u001b[0mstep\u001b[0m\u001b[0;34m=\u001b[0m\u001b[0;36m10000\u001b[0m\u001b[0;34m)\u001b[0m\u001b[0;34m\u001b[0m\u001b[0;34m\u001b[0m\u001b[0m\n\u001b[0;32m----> 2\u001b[0;31m \u001b[0mplot_vocab_vs_tokens\u001b[0m\u001b[0;34m(\u001b[0m\u001b[0mvocab_sizes\u001b[0m\u001b[0;34m)\u001b[0m\u001b[0;34m\u001b[0m\u001b[0;34m\u001b[0m\u001b[0m\n\u001b[0m\u001b[1;32m      3\u001b[0m \u001b[0;34m\u001b[0m\u001b[0m\n\u001b[1;32m      4\u001b[0m \u001b[0;32mfor\u001b[0m \u001b[0mnum_tokens\u001b[0m\u001b[0;34m,\u001b[0m \u001b[0mvocab_size\u001b[0m \u001b[0;32min\u001b[0m \u001b[0mvocab_sizes\u001b[0m\u001b[0;34m:\u001b[0m\u001b[0;34m\u001b[0m\u001b[0;34m\u001b[0m\u001b[0m\n\u001b[1;32m      5\u001b[0m     \u001b[0mprint\u001b[0m\u001b[0;34m(\u001b[0m\u001b[0;34mf\"Number of tokens: {num_tokens}, Vocabulary size: {vocab_size}\"\u001b[0m\u001b[0;34m)\u001b[0m\u001b[0;34m\u001b[0m\u001b[0;34m\u001b[0m\u001b[0m\n",
            "\u001b[0;32m<ipython-input-10-ecd2ee121a93>\u001b[0m in \u001b[0;36mplot_vocab_vs_tokens\u001b[0;34m(vocab_sizes)\u001b[0m\n\u001b[1;32m     12\u001b[0m \u001b[0;34m\u001b[0m\u001b[0m\n\u001b[1;32m     13\u001b[0m \u001b[0;32mdef\u001b[0m \u001b[0mplot_vocab_vs_tokens\u001b[0m\u001b[0;34m(\u001b[0m\u001b[0mvocab_sizes\u001b[0m\u001b[0;34m)\u001b[0m\u001b[0;34m:\u001b[0m\u001b[0;34m\u001b[0m\u001b[0;34m\u001b[0m\u001b[0m\n\u001b[0;32m---> 14\u001b[0;31m     \u001b[0mtokens_counts\u001b[0m\u001b[0;34m,\u001b[0m \u001b[0mvocab_counts\u001b[0m \u001b[0;34m=\u001b[0m \u001b[0mzip\u001b[0m\u001b[0;34m(\u001b[0m\u001b[0;34m*\u001b[0m\u001b[0mvocab_sizes\u001b[0m\u001b[0;34m)\u001b[0m\u001b[0;34m\u001b[0m\u001b[0;34m\u001b[0m\u001b[0m\n\u001b[0m\u001b[1;32m     15\u001b[0m \u001b[0;34m\u001b[0m\u001b[0m\n\u001b[1;32m     16\u001b[0m     \u001b[0mplt\u001b[0m\u001b[0;34m.\u001b[0m\u001b[0mfigure\u001b[0m\u001b[0;34m(\u001b[0m\u001b[0mfigsize\u001b[0m\u001b[0;34m=\u001b[0m\u001b[0;34m(\u001b[0m\u001b[0;36m10\u001b[0m\u001b[0;34m,\u001b[0m \u001b[0;36m6\u001b[0m\u001b[0;34m)\u001b[0m\u001b[0;34m)\u001b[0m\u001b[0;34m\u001b[0m\u001b[0;34m\u001b[0m\u001b[0m\n",
            "\u001b[0;31mValueError\u001b[0m: not enough values to unpack (expected 2, got 0)"
          ]
        }
      ]
    },
    {
      "cell_type": "code",
      "source": [],
      "metadata": {
        "id": "AJyEBinfed6w"
      },
      "execution_count": null,
      "outputs": []
    }
  ]
}